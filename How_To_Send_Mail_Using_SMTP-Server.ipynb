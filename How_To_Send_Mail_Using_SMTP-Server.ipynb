{
 "cells": [
  {
   "cell_type": "code",
   "execution_count": 22,
   "metadata": {},
   "outputs": [
    {
     "name": "stdout",
     "output_type": "stream",
     "text": [
      "Successfully login\n",
      "Mail send successfully\n",
      "close\n"
     ]
    }
   ],
   "source": [
    "import smtplib, ssl\n",
    "\n",
    "smtp_server = \"smtp.gmail.com\"\n",
    "port = 587  # For starttls\n",
    "sender_email = \"Your Gmail or Other email address here\"\n",
    "password = \"Your Password Here\"\n",
    "\n",
    "# Create a secure SSL context\n",
    "context = ssl.create_default_context()\n",
    "\n",
    "# Try to log in to server and send email\n",
    "try:\n",
    "    server = smtplib.SMTP(smtp_server,port)\n",
    "    server.ehlo() # Can be comitted\n",
    "    server.starttls(context=context) # Secure the connection\n",
    "    server.ehlo() # Can be comitted\n",
    "    server.login(sender_email, password)\n",
    "    # TODO: Send email here\n",
    "    # print message for showing you are successfully login\n",
    "    print(\"Successfully login\") \n",
    "    # Create Subject what ever you want\n",
    "    subject=\"Sending email using python\"\n",
    "    # Create Body message what ever you want or write\n",
    "    body=\"This is 2nd mail from python sended by Raheel\"\n",
    "    # Finally combine body & subject using string formating\n",
    "    message=\"Subject: {}\\n\\n{}\".format(subject,body)\n",
    "    # Create List for user mail ID's\n",
    "    address=['mraheel.naseem@gmail.com','mrahilnasim@gmail.com']\n",
    "    # Then combine all the message & mail ID's just for sending\n",
    "    server.sendmail(\"johnmalton734\",address,message) # it's take 3 argument (1.)sender mail id, 2.)receiver id's, 3.)message)\n",
    "    # Simply show message for successfully send\n",
    "    print('Mail send successfully')\n",
    "except Exception:\n",
    "    # Print any error messages\n",
    "    # Showing error if password is wrong\n",
    "    print(\"Login Failed\")\n",
    "    print(\"Try to enter correct password\")\n",
    "finally:\n",
    "    # for completly close SMTP server\n",
    "    print('Server Has Been Successfully Close')\n",
    "    server.quit() "
   ]
  },
  
